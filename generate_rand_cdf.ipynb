{
 "cells": [
  {
   "cell_type": "markdown",
   "metadata": {},
   "source": [
    "Given a list of numbers, write a function that randomly generates number that follows the same distribution"
   ]
  },
  {
   "cell_type": "code",
   "execution_count": 1,
   "metadata": {
    "collapsed": true
   },
   "outputs": [],
   "source": [
    "import matplotlib.pyplot as plt\n",
    "import numpy as np\n",
    "import random"
   ]
  },
  {
   "cell_type": "code",
   "execution_count": 44,
   "metadata": {},
   "outputs": [],
   "source": [
    "# randomly generate 500 numbers\n",
    "data = np.random.randn(100)\n",
    "#data = [1,2,123,2,3,1,3,56,5,7,85,34,53,2,5,4,32,56,77,65,4,56,78]\n",
    "# sort the data, small to large\n",
    "sorted_data = sorted(data)\n",
    "# get the probability density list\n",
    "#  np.arange(x) gives a list of integers from 0 to x - 1, if we divide the list by the x - 1, then the smallest\n",
    "#  number will be scaled to 0 and the largest will be scaled to 1\n",
    "p = np.arange(len(data)) / (len(data) - 1)"
   ]
  },
  {
   "cell_type": "code",
   "execution_count": 45,
   "metadata": {},
   "outputs": [
    {
     "data": {
      "image/png": "[encoded data removed]",
      "text/plain": [
       "<matplotlib.figure.Figure at 0x1106f34a8>"
      ]
     },
     "metadata": {},
     "output_type": "display_data"
    }
   ],
   "source": [
    "fig = plt.figure()\n",
    "ax1 = fig.add_subplot(121)\n",
    "ax1.plot(sorted_data,p)\n",
    "ax1.set_xlabel('$x$')\n",
    "ax1.set_ylabel('$p$')\n",
    "plt.show()"
   ]
  },
  {
   "cell_type": "code",
   "execution_count": 36,
   "metadata": {},
   "outputs": [],
   "source": [
    "def rand_gen(data):\n",
    "    # sort the data, small to large\n",
    "    sorted_data = sorted(data)\n",
    "    # get the probability density list\n",
    "    #  np.arange(x) gives a list of integers from 0 to x - 1, if we divide the list by the x - 1, then the smallest\n",
    "    #  number will be scaled to 0 and the largest will be scaled to 1\n",
    "    density_lst = np.arange(len(data)) / (len(data) - 1)\n",
    "    # generate a random number between 0 and 1 to get the probability\n",
    "    rand_num = random.random()\n",
    "    # find the position of the random number in the density list\n",
    "    index = len([x for x in density_lst if x <= rand_num])\n",
    "    return sorted_data[index]"
   ]
  },
  {
   "cell_type": "code",
   "execution_count": 41,
   "metadata": {},
   "outputs": [
    {
     "data": {
      "text/plain": [
       "-0.13399487467194307"
      ]
     },
     "execution_count": 41,
     "metadata": {},
     "output_type": "execute_result"
    }
   ],
   "source": [
    "rand_gen(data)"
   ]
  }
 ],
 "metadata": {
  "kernelspec": {
   "display_name": "Python 3",
   "language": "python",
   "name": "python3"
  },
  "language_info": {
   "codemirror_mode": {
    "name": "ipython",
    "version": 3
   },
   "file_extension": ".py",
   "mimetype": "text/x-python",
   "name": "python",
   "nbconvert_exporter": "python",
   "pygments_lexer": "ipython3",
   "version": "3.6.3"
  }
 },
 "nbformat": 4,
 "nbformat_minor": 2
}
